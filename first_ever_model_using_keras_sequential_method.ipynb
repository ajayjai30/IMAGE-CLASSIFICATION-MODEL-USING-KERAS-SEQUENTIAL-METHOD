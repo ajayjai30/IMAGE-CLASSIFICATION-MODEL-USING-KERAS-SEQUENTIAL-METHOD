{
  "nbformat": 4,
  "nbformat_minor": 0,
  "metadata": {
    "colab": {
      "provenance": [],
      "authorship_tag": "ABX9TyNsqcYrt9QKV97uH/BieIce",
      "include_colab_link": true
    },
    "kernelspec": {
      "name": "python3",
      "display_name": "Python 3"
    },
    "language_info": {
      "name": "python"
    },
    "accelerator": "TPU"
  },
  "cells": [
    {
      "cell_type": "markdown",
      "metadata": {
        "id": "view-in-github",
        "colab_type": "text"
      },
      "source": [
        "<a href=\"https://colab.research.google.com/github/ajayjai30/IMAGE-CLASSIFICATION-MODEL-USING-KERAS-SEQUENTIAL-METHOD/blob/main/first_ever_model_using_keras_sequential_method.ipynb\" target=\"_parent\"><img src=\"https://colab.research.google.com/assets/colab-badge.svg\" alt=\"Open In Colab\"/></a>"
      ]
    },
    {
      "cell_type": "markdown",
      "source": [
        "Importing all the required libraries\n",
        "\n",
        "\n",
        "*   keras==> models(for importing of models)\n",
        "*   keras==>layers importing Dense layer and Dropout layer\n",
        "*   keras==>datasets( for importing datasets)\n",
        "*   keras==>utils import to_categorical(for performing onehotencoding)\n",
        "*   keras==>utils.vis_utils import model_to_dot(this is for visualizing the model's performance)\n",
        "*   Ipython.display(for importing the SVG model)\n",
        "\n"
      ],
      "metadata": {
        "id": "MRxiPojHSsx0"
      }
    },
    {
      "cell_type": "code",
      "source": [
        "! pip install livelossplot"
      ],
      "metadata": {
        "colab": {
          "base_uri": "https://localhost:8080/"
        },
        "id": "COadiwbGUtKR",
        "outputId": "dffb2e0b-d937-4d68-e52b-4bf66af68e46"
      },
      "execution_count": null,
      "outputs": [
        {
          "output_type": "stream",
          "name": "stdout",
          "text": [
            "Requirement already satisfied: livelossplot in /usr/local/lib/python3.10/dist-packages (0.5.5)\n",
            "Requirement already satisfied: matplotlib in /usr/local/lib/python3.10/dist-packages (from livelossplot) (3.7.1)\n",
            "Requirement already satisfied: bokeh in /usr/local/lib/python3.10/dist-packages (from livelossplot) (3.3.3)\n",
            "Requirement already satisfied: Jinja2>=2.9 in /usr/local/lib/python3.10/dist-packages (from bokeh->livelossplot) (3.1.3)\n",
            "Requirement already satisfied: contourpy>=1 in /usr/local/lib/python3.10/dist-packages (from bokeh->livelossplot) (1.2.0)\n",
            "Requirement already satisfied: numpy>=1.16 in /usr/local/lib/python3.10/dist-packages (from bokeh->livelossplot) (1.23.5)\n",
            "Requirement already satisfied: packaging>=16.8 in /usr/local/lib/python3.10/dist-packages (from bokeh->livelossplot) (23.2)\n",
            "Requirement already satisfied: pandas>=1.2 in /usr/local/lib/python3.10/dist-packages (from bokeh->livelossplot) (1.5.3)\n",
            "Requirement already satisfied: pillow>=7.1.0 in /usr/local/lib/python3.10/dist-packages (from bokeh->livelossplot) (9.4.0)\n",
            "Requirement already satisfied: PyYAML>=3.10 in /usr/local/lib/python3.10/dist-packages (from bokeh->livelossplot) (6.0.1)\n",
            "Requirement already satisfied: tornado>=5.1 in /usr/local/lib/python3.10/dist-packages (from bokeh->livelossplot) (6.3.2)\n",
            "Requirement already satisfied: xyzservices>=2021.09.1 in /usr/local/lib/python3.10/dist-packages (from bokeh->livelossplot) (2023.10.1)\n",
            "Requirement already satisfied: cycler>=0.10 in /usr/local/lib/python3.10/dist-packages (from matplotlib->livelossplot) (0.12.1)\n",
            "Requirement already satisfied: fonttools>=4.22.0 in /usr/local/lib/python3.10/dist-packages (from matplotlib->livelossplot) (4.47.2)\n",
            "Requirement already satisfied: kiwisolver>=1.0.1 in /usr/local/lib/python3.10/dist-packages (from matplotlib->livelossplot) (1.4.5)\n",
            "Requirement already satisfied: pyparsing>=2.3.1 in /usr/local/lib/python3.10/dist-packages (from matplotlib->livelossplot) (3.1.1)\n",
            "Requirement already satisfied: python-dateutil>=2.7 in /usr/local/lib/python3.10/dist-packages (from matplotlib->livelossplot) (2.8.2)\n",
            "Requirement already satisfied: MarkupSafe>=2.0 in /usr/local/lib/python3.10/dist-packages (from Jinja2>=2.9->bokeh->livelossplot) (2.1.3)\n",
            "Requirement already satisfied: pytz>=2020.1 in /usr/local/lib/python3.10/dist-packages (from pandas>=1.2->bokeh->livelossplot) (2023.3.post1)\n",
            "Requirement already satisfied: six>=1.5 in /usr/local/lib/python3.10/dist-packages (from python-dateutil>=2.7->matplotlib->livelossplot) (1.16.0)\n"
          ]
        }
      ]
    },
    {
      "cell_type": "code",
      "execution_count": null,
      "metadata": {
        "id": "bgwifZyLwXUx"
      },
      "outputs": [],
      "source": [
        "from keras import models as M\n",
        "from keras.utils import to_categorical,model_to_dot\n",
        "from keras.datasets import mnist\n",
        "from keras.layers import Dense,Dropout\n",
        "from IPython.display import SVG\n",
        "import numpy as np\n",
        "import livelossplot\n",
        "from keras.callbacks import TensorBoard\n",
        "#plot_losses=livelossplot.PlotLossKeras()"
      ]
    },
    {
      "cell_type": "markdown",
      "source": [
        "Initializing the required values"
      ],
      "metadata": {
        "id": "NsyTI1LeU3tA"
      }
    },
    {
      "cell_type": "code",
      "source": [
        "import livelossplot\n",
        "plot_losses=livelossplot.PlotLossesKeras()"
      ],
      "metadata": {
        "id": "faE_ZC6HwXxM"
      },
      "execution_count": null,
      "outputs": []
    },
    {
      "cell_type": "code",
      "source": [
        "(x_train,y_train),(x_test,y_test)=mnist.load_data()"
      ],
      "metadata": {
        "id": "8CVQ91XsT_FG"
      },
      "execution_count": null,
      "outputs": []
    },
    {
      "cell_type": "markdown",
      "source": [
        "creating an function for the referring the shape of the training and testing size of the datasets including the type of dataset\n"
      ],
      "metadata": {
        "id": "DoHVzrwJfomS"
      }
    },
    {
      "cell_type": "code",
      "source": [
        "def summary_of_data(x_train,y_train,x_test,y_test):\n",
        "  print(\"Shape and type of Training images set:\",x_train.shape,'\\n',x_train.dtype)\n",
        "  print(\"Shape and type of Training labels set:\",x_test.shape,'\\n',x_test.dtype)\n",
        "  print(\"Shape and type of Testing images set:\",y_train.shape,'\\n',y_train.dtype)\n",
        "  print(\"shape and type of Testing labels set:\",y_test.shape,'\\n',y_test.dtype)"
      ],
      "metadata": {
        "id": "cvbojvqIU8wB"
      },
      "execution_count": null,
      "outputs": []
    },
    {
      "cell_type": "code",
      "source": [
        "summary_of_data(x_train,y_train,x_test,y_test)"
      ],
      "metadata": {
        "colab": {
          "base_uri": "https://localhost:8080/"
        },
        "id": "0gPyg3BGfGZj",
        "outputId": "3e1ece25-2bfd-43a7-a6fa-74d4525c56fc"
      },
      "execution_count": null,
      "outputs": [
        {
          "output_type": "stream",
          "name": "stdout",
          "text": [
            "Shape and type of Training images set: (60000, 28, 28) \n",
            " uint8\n",
            "Shape and type of Training labels set: (10000, 28, 28) \n",
            " uint8\n",
            "Shape and type of Testing images set: (60000,) \n",
            " uint8\n",
            "shape and type of Testing labels set: (10000,) \n",
            " uint8\n"
          ]
        }
      ]
    },
    {
      "cell_type": "markdown",
      "source": [
        "Now reshaping the data as ml algorithms can only operate on 2D data in the training set."
      ],
      "metadata": {
        "id": "RKp7ZwVAgrGN"
      }
    },
    {
      "cell_type": "code",
      "source": [
        "x_train=x_train.reshape(x_train.shape[0],28*28)"
      ],
      "metadata": {
        "id": "zekS_opcfLQa"
      },
      "execution_count": null,
      "outputs": []
    },
    {
      "cell_type": "code",
      "source": [
        "x_test=x_test.reshape(x_test.shape[0],x_test.shape[1]*x_test.shape[2])"
      ],
      "metadata": {
        "id": "30EaYmUqiY_B"
      },
      "execution_count": null,
      "outputs": []
    },
    {
      "cell_type": "markdown",
      "source": [
        "now changing the testing datas into categorical data's as the model needs to categorize the datas as per we need"
      ],
      "metadata": {
        "id": "n3TYFh8Ai_cK"
      }
    },
    {
      "cell_type": "code",
      "source": [
        "y_train=to_categorical(y_train,num_classes=10)\n",
        "y_test=to_categorical(y_test,num_classes=10)"
      ],
      "metadata": {
        "id": "RuV_N1U3iXCN"
      },
      "execution_count": null,
      "outputs": []
    },
    {
      "cell_type": "code",
      "source": [
        "y_train[0]"
      ],
      "metadata": {
        "colab": {
          "base_uri": "https://localhost:8080/"
        },
        "id": "OJeme-ktivd_",
        "outputId": "38b5c91d-ba5f-4207-bed3-45378f7f4be1"
      },
      "execution_count": null,
      "outputs": [
        {
          "output_type": "execute_result",
          "data": {
            "text/plain": [
              "array([0., 0., 0., 0., 0., 1., 0., 0., 0., 0.], dtype=float32)"
            ]
          },
          "metadata": {},
          "execution_count": 32
        }
      ]
    },
    {
      "cell_type": "code",
      "source": [
        "y_test"
      ],
      "metadata": {
        "colab": {
          "base_uri": "https://localhost:8080/"
        },
        "id": "AwNtaGLskF3i",
        "outputId": "57d74bd3-e41b-4eae-d805-89fe16dfd647"
      },
      "execution_count": null,
      "outputs": [
        {
          "output_type": "execute_result",
          "data": {
            "text/plain": [
              "array([[0., 0., 0., ..., 1., 0., 0.],\n",
              "       [0., 0., 1., ..., 0., 0., 0.],\n",
              "       [0., 1., 0., ..., 0., 0., 0.],\n",
              "       ...,\n",
              "       [0., 0., 0., ..., 0., 0., 0.],\n",
              "       [0., 0., 0., ..., 0., 0., 0.],\n",
              "       [0., 0., 0., ..., 0., 0., 0.]], dtype=float32)"
            ]
          },
          "metadata": {},
          "execution_count": 33
        }
      ]
    },
    {
      "cell_type": "markdown",
      "source": [
        "now as the testing set of data is in the floating format thereis a needto convert the training data's also into floating data's or testing data's into integers, but changing the training is the best option as the neural models are much precise at floating values"
      ],
      "metadata": {
        "id": "7v_GSI_6k8qQ"
      }
    },
    {
      "cell_type": "code",
      "source": [
        "x_train=x_train.astype('float32')/255\n",
        "x_test=x_test.astype('float32')/255"
      ],
      "metadata": {
        "id": "Lfhb65cAlXGo"
      },
      "execution_count": null,
      "outputs": []
    },
    {
      "cell_type": "markdown",
      "source": [
        "now making an final checking using the summary_of_data function"
      ],
      "metadata": {
        "id": "tbtYQdT-kSmb"
      }
    },
    {
      "cell_type": "code",
      "source": [
        "summary_of_data(x_train,y_train,x_test,y_test)"
      ],
      "metadata": {
        "colab": {
          "base_uri": "https://localhost:8080/"
        },
        "id": "tbB0nO37kRcv",
        "outputId": "5685586d-3cb0-4fa1-fdb4-09c8245c4cc3"
      },
      "execution_count": null,
      "outputs": [
        {
          "output_type": "stream",
          "name": "stdout",
          "text": [
            "Shape and type of Training images set: (60000, 784) \n",
            " float32\n",
            "Shape and type of Training labels set: (10000, 784) \n",
            " float32\n",
            "Shape and type of Testing images set: (60000, 10) \n",
            " float32\n",
            "shape and type of Testing labels set: (10000, 10) \n",
            " float32\n"
          ]
        }
      ]
    },
    {
      "cell_type": "markdown",
      "source": [
        "now building the model (sequential neural model)"
      ],
      "metadata": {
        "id": "jSGpcW07khXI"
      }
    },
    {
      "cell_type": "code",
      "source": [
        "model=M.Sequential()\n",
        "model.add(Dense(512,activation='tanh',input_shape=(784,)))\n",
        "model.add(Dropout(0.5))\n",
        "model.add(Dense(256,activation='relu'))\n",
        "model.add(Dropout(0.25))\n",
        "model.add(Dense(128,activation='relu'))\n",
        "model.add(Dropout(0.12))\n",
        "model.add(Dense(10,activation='softmax'))"
      ],
      "metadata": {
        "id": "Dd1Ds3iHkfhO"
      },
      "execution_count": null,
      "outputs": []
    },
    {
      "cell_type": "markdown",
      "source": [
        "after the model building is complete, there is a tune for the model to imporve the accuracy of the model created."
      ],
      "metadata": {
        "id": "N2o8oIooMssx"
      }
    },
    {
      "cell_type": "code",
      "source": [
        "model.compile(optimizer='rmsprop',loss='categorical_crossentropy',metrics=['accuracy'])"
      ],
      "metadata": {
        "id": "B7aQaUbHksr2"
      },
      "execution_count": null,
      "outputs": []
    },
    {
      "cell_type": "markdown",
      "source": [
        "now after tuning the model, the training dataset is fitted on the model."
      ],
      "metadata": {
        "id": "9EH7svc8M8dG"
      }
    },
    {
      "cell_type": "code",
      "source": [
        "model.fit(x_train,y_train,batch_size=32,callbacks=[TensorBoard(write_graph=True)],epochs=10,verbose=1,validation_data=(x_test,y_test))"
      ],
      "metadata": {
        "colab": {
          "base_uri": "https://localhost:8080/"
        },
        "id": "s_48wVjioyU4",
        "outputId": "b52976df-8ed2-455e-cac1-27b2a2a360e6"
      },
      "execution_count": null,
      "outputs": [
        {
          "output_type": "stream",
          "name": "stdout",
          "text": [
            "Epoch 1/10\n",
            "1875/1875 [==============================] - 36s 18ms/step - loss: 0.3515 - accuracy: 0.8945 - val_loss: 0.1495 - val_accuracy: 0.9545\n",
            "Epoch 2/10\n",
            "1875/1875 [==============================] - 26s 14ms/step - loss: 0.2260 - accuracy: 0.9383 - val_loss: 0.1319 - val_accuracy: 0.9637\n",
            "Epoch 3/10\n",
            "1875/1875 [==============================] - 30s 16ms/step - loss: 0.2081 - accuracy: 0.9460 - val_loss: 0.1300 - val_accuracy: 0.9642\n",
            "Epoch 4/10\n",
            "1875/1875 [==============================] - 27s 14ms/step - loss: 0.1957 - accuracy: 0.9510 - val_loss: 0.1168 - val_accuracy: 0.9697\n",
            "Epoch 5/10\n",
            "1875/1875 [==============================] - 27s 14ms/step - loss: 0.1975 - accuracy: 0.9536 - val_loss: 0.1147 - val_accuracy: 0.9697\n",
            "Epoch 6/10\n",
            "1875/1875 [==============================] - 26s 14ms/step - loss: 0.1977 - accuracy: 0.9543 - val_loss: 0.1274 - val_accuracy: 0.9712\n",
            "Epoch 7/10\n",
            "1875/1875 [==============================] - 26s 14ms/step - loss: 0.1974 - accuracy: 0.9563 - val_loss: 0.1158 - val_accuracy: 0.9707\n",
            "Epoch 8/10\n",
            "1875/1875 [==============================] - 26s 14ms/step - loss: 0.1978 - accuracy: 0.9566 - val_loss: 0.1135 - val_accuracy: 0.9730\n",
            "Epoch 9/10\n",
            "1875/1875 [==============================] - 26s 14ms/step - loss: 0.2001 - accuracy: 0.9586 - val_loss: 0.1148 - val_accuracy: 0.9735\n",
            "Epoch 10/10\n",
            "1875/1875 [==============================] - 26s 14ms/step - loss: 0.1960 - accuracy: 0.9596 - val_loss: 0.1423 - val_accuracy: 0.9750\n"
          ]
        },
        {
          "output_type": "execute_result",
          "data": {
            "text/plain": [
              "<keras.callbacks.History at 0x7c34837234f0>"
            ]
          },
          "metadata": {},
          "execution_count": 39
        }
      ]
    },
    {
      "cell_type": "markdown",
      "source": [
        "After the completion of the training, final evaluation is done using the evaluate function"
      ],
      "metadata": {
        "id": "A788WVwrQMcc"
      }
    },
    {
      "cell_type": "code",
      "source": [
        "print(\"loss occured in the model\",model.evaluate(x_test,y_test,verbose=0)[0])\n",
        "print(\"Accuracy occured by the model\",model.evaluate(x_test,y_test,verbose=0)[1])"
      ],
      "metadata": {
        "colab": {
          "base_uri": "https://localhost:8080/"
        },
        "id": "tJ9BEk28QLPl",
        "outputId": "f9915f22-9f0f-4b43-837f-8993bcb711a2"
      },
      "execution_count": null,
      "outputs": [
        {
          "output_type": "stream",
          "name": "stdout",
          "text": [
            "loss occured in the model 0.1422877162694931\n",
            "Accuracy occured by the model 0.9750000238418579\n"
          ]
        }
      ]
    },
    {
      "cell_type": "markdown",
      "source": [
        "after the training is completed, now looking at a quick summarization on the performance of the model is done."
      ],
      "metadata": {
        "id": "KBtorDDyPhc6"
      }
    },
    {
      "cell_type": "code",
      "source": [
        "model.summary()"
      ],
      "metadata": {
        "colab": {
          "base_uri": "https://localhost:8080/"
        },
        "id": "-nsBfUIGxiYb",
        "outputId": "749e58e0-782e-4bcc-d504-d853ca2f4347"
      },
      "execution_count": null,
      "outputs": [
        {
          "output_type": "stream",
          "name": "stdout",
          "text": [
            "Model: \"sequential_1\"\n",
            "_________________________________________________________________\n",
            " Layer (type)                Output Shape              Param #   \n",
            "=================================================================\n",
            " dense_4 (Dense)             (None, 512)               401920    \n",
            "                                                                 \n",
            " dropout_3 (Dropout)         (None, 512)               0         \n",
            "                                                                 \n",
            " dense_5 (Dense)             (None, 256)               131328    \n",
            "                                                                 \n",
            " dropout_4 (Dropout)         (None, 256)               0         \n",
            "                                                                 \n",
            " dense_6 (Dense)             (None, 128)               32896     \n",
            "                                                                 \n",
            " dropout_5 (Dropout)         (None, 128)               0         \n",
            "                                                                 \n",
            " dense_7 (Dense)             (None, 10)                1290      \n",
            "                                                                 \n",
            "=================================================================\n",
            "Total params: 567,434\n",
            "Trainable params: 567,434\n",
            "Non-trainable params: 0\n",
            "_________________________________________________________________\n"
          ]
        }
      ]
    },
    {
      "cell_type": "markdown",
      "source": [
        "after looking at the summary, now visualizing the summary in a flowchart format"
      ],
      "metadata": {
        "id": "N8w-gHHEPsLl"
      }
    },
    {
      "cell_type": "code",
      "source": [
        "SVG(model_to_dot(model).create(prog='dot',format='svg'))"
      ],
      "metadata": {
        "colab": {
          "base_uri": "https://localhost:8080/"
        },
        "id": "405zQr_PPrVX",
        "outputId": "3cd7af1f-424b-46a4-d3c5-7e5ed31a4d3d"
      },
      "execution_count": null,
      "outputs": [
        {
          "output_type": "execute_result",
          "data": {
            "text/plain": [
              "<IPython.core.display.SVG object>"
            ],
            "image/svg+xml": "<svg xmlns=\"http://www.w3.org/2000/svg\" xmlns:xlink=\"http://www.w3.org/1999/xlink\" width=\"240pt\" height=\"741pt\" viewBox=\"0.00 0.00 180.00 556.00\">\n<g id=\"graph0\" class=\"graph\" transform=\"scale(0.75 0.75) rotate(0) translate(4 552)\">\n<title>G</title>\n<polygon fill=\"white\" stroke=\"transparent\" points=\"-4,4 -4,-552 176,-552 176,4 -4,4\"/>\n<!-- 136564728570464 -->\n<g id=\"node1\" class=\"node\">\n<title>136564728570464</title>\n<polygon fill=\"none\" stroke=\"black\" points=\"0,-511.5 0,-547.5 172,-547.5 172,-511.5 0,-511.5\"/>\n<text text-anchor=\"middle\" x=\"47.5\" y=\"-525.8\" font-family=\"Times,serif\" font-size=\"14.00\">dense_4_input</text>\n<polyline fill=\"none\" stroke=\"black\" points=\"95,-511.5 95,-547.5 \"/>\n<text text-anchor=\"middle\" x=\"133.5\" y=\"-525.8\" font-family=\"Times,serif\" font-size=\"14.00\">InputLayer</text>\n</g>\n<!-- 136564728570560 -->\n<g id=\"node2\" class=\"node\">\n<title>136564728570560</title>\n<polygon fill=\"none\" stroke=\"black\" points=\"30.5,-438.5 30.5,-474.5 141.5,-474.5 141.5,-438.5 30.5,-438.5\"/>\n<text text-anchor=\"middle\" x=\"61\" y=\"-452.8\" font-family=\"Times,serif\" font-size=\"14.00\">dense_4</text>\n<polyline fill=\"none\" stroke=\"black\" points=\"91.5,-438.5 91.5,-474.5 \"/>\n<text text-anchor=\"middle\" x=\"116.5\" y=\"-452.8\" font-family=\"Times,serif\" font-size=\"14.00\">Dense</text>\n</g>\n<!-- 136564728570464&#45;&gt;136564728570560 -->\n<g id=\"edge1\" class=\"edge\">\n<title>136564728570464-&gt;136564728570560</title>\n<path fill=\"none\" stroke=\"black\" d=\"M86,-511.31C86,-503.29 86,-493.55 86,-484.57\"/>\n<polygon fill=\"black\" stroke=\"black\" points=\"89.5,-484.53 86,-474.53 82.5,-484.53 89.5,-484.53\"/>\n</g>\n<!-- 136564728565904 -->\n<g id=\"node3\" class=\"node\">\n<title>136564728565904</title>\n<polygon fill=\"none\" stroke=\"black\" points=\"19,-365.5 19,-401.5 153,-401.5 153,-365.5 19,-365.5\"/>\n<text text-anchor=\"middle\" x=\"55\" y=\"-379.8\" font-family=\"Times,serif\" font-size=\"14.00\">dropout_3</text>\n<polyline fill=\"none\" stroke=\"black\" points=\"91,-365.5 91,-401.5 \"/>\n<text text-anchor=\"middle\" x=\"122\" y=\"-379.8\" font-family=\"Times,serif\" font-size=\"14.00\">Dropout</text>\n</g>\n<!-- 136564728570560&#45;&gt;136564728565904 -->\n<g id=\"edge2\" class=\"edge\">\n<title>136564728570560-&gt;136564728565904</title>\n<path fill=\"none\" stroke=\"black\" d=\"M86,-438.31C86,-430.29 86,-420.55 86,-411.57\"/>\n<polygon fill=\"black\" stroke=\"black\" points=\"89.5,-411.53 86,-401.53 82.5,-411.53 89.5,-411.53\"/>\n</g>\n<!-- 136564728577280 -->\n<g id=\"node4\" class=\"node\">\n<title>136564728577280</title>\n<polygon fill=\"none\" stroke=\"black\" points=\"30.5,-292.5 30.5,-328.5 141.5,-328.5 141.5,-292.5 30.5,-292.5\"/>\n<text text-anchor=\"middle\" x=\"61\" y=\"-306.8\" font-family=\"Times,serif\" font-size=\"14.00\">dense_5</text>\n<polyline fill=\"none\" stroke=\"black\" points=\"91.5,-292.5 91.5,-328.5 \"/>\n<text text-anchor=\"middle\" x=\"116.5\" y=\"-306.8\" font-family=\"Times,serif\" font-size=\"14.00\">Dense</text>\n</g>\n<!-- 136564728565904&#45;&gt;136564728577280 -->\n<g id=\"edge3\" class=\"edge\">\n<title>136564728565904-&gt;136564728577280</title>\n<path fill=\"none\" stroke=\"black\" d=\"M86,-365.31C86,-357.29 86,-347.55 86,-338.57\"/>\n<polygon fill=\"black\" stroke=\"black\" points=\"89.5,-338.53 86,-328.53 82.5,-338.53 89.5,-338.53\"/>\n</g>\n<!-- 136564728577376 -->\n<g id=\"node5\" class=\"node\">\n<title>136564728577376</title>\n<polygon fill=\"none\" stroke=\"black\" points=\"19,-219.5 19,-255.5 153,-255.5 153,-219.5 19,-219.5\"/>\n<text text-anchor=\"middle\" x=\"55\" y=\"-233.8\" font-family=\"Times,serif\" font-size=\"14.00\">dropout_4</text>\n<polyline fill=\"none\" stroke=\"black\" points=\"91,-219.5 91,-255.5 \"/>\n<text text-anchor=\"middle\" x=\"122\" y=\"-233.8\" font-family=\"Times,serif\" font-size=\"14.00\">Dropout</text>\n</g>\n<!-- 136564728577280&#45;&gt;136564728577376 -->\n<g id=\"edge4\" class=\"edge\">\n<title>136564728577280-&gt;136564728577376</title>\n<path fill=\"none\" stroke=\"black\" d=\"M86,-292.31C86,-284.29 86,-274.55 86,-265.57\"/>\n<polygon fill=\"black\" stroke=\"black\" points=\"89.5,-265.53 86,-255.53 82.5,-265.53 89.5,-265.53\"/>\n</g>\n<!-- 136564984018928 -->\n<g id=\"node6\" class=\"node\">\n<title>136564984018928</title>\n<polygon fill=\"none\" stroke=\"black\" points=\"30.5,-146.5 30.5,-182.5 141.5,-182.5 141.5,-146.5 30.5,-146.5\"/>\n<text text-anchor=\"middle\" x=\"61\" y=\"-160.8\" font-family=\"Times,serif\" font-size=\"14.00\">dense_6</text>\n<polyline fill=\"none\" stroke=\"black\" points=\"91.5,-146.5 91.5,-182.5 \"/>\n<text text-anchor=\"middle\" x=\"116.5\" y=\"-160.8\" font-family=\"Times,serif\" font-size=\"14.00\">Dense</text>\n</g>\n<!-- 136564728577376&#45;&gt;136564984018928 -->\n<g id=\"edge5\" class=\"edge\">\n<title>136564728577376-&gt;136564984018928</title>\n<path fill=\"none\" stroke=\"black\" d=\"M86,-219.31C86,-211.29 86,-201.55 86,-192.57\"/>\n<polygon fill=\"black\" stroke=\"black\" points=\"89.5,-192.53 86,-182.53 82.5,-192.53 89.5,-192.53\"/>\n</g>\n<!-- 136564984010912 -->\n<g id=\"node7\" class=\"node\">\n<title>136564984010912</title>\n<polygon fill=\"none\" stroke=\"black\" points=\"19,-73.5 19,-109.5 153,-109.5 153,-73.5 19,-73.5\"/>\n<text text-anchor=\"middle\" x=\"55\" y=\"-87.8\" font-family=\"Times,serif\" font-size=\"14.00\">dropout_5</text>\n<polyline fill=\"none\" stroke=\"black\" points=\"91,-73.5 91,-109.5 \"/>\n<text text-anchor=\"middle\" x=\"122\" y=\"-87.8\" font-family=\"Times,serif\" font-size=\"14.00\">Dropout</text>\n</g>\n<!-- 136564984018928&#45;&gt;136564984010912 -->\n<g id=\"edge6\" class=\"edge\">\n<title>136564984018928-&gt;136564984010912</title>\n<path fill=\"none\" stroke=\"black\" d=\"M86,-146.31C86,-138.29 86,-128.55 86,-119.57\"/>\n<polygon fill=\"black\" stroke=\"black\" points=\"89.5,-119.53 86,-109.53 82.5,-119.53 89.5,-119.53\"/>\n</g>\n<!-- 136564984013024 -->\n<g id=\"node8\" class=\"node\">\n<title>136564984013024</title>\n<polygon fill=\"none\" stroke=\"black\" points=\"30.5,-0.5 30.5,-36.5 141.5,-36.5 141.5,-0.5 30.5,-0.5\"/>\n<text text-anchor=\"middle\" x=\"61\" y=\"-14.8\" font-family=\"Times,serif\" font-size=\"14.00\">dense_7</text>\n<polyline fill=\"none\" stroke=\"black\" points=\"91.5,-0.5 91.5,-36.5 \"/>\n<text text-anchor=\"middle\" x=\"116.5\" y=\"-14.8\" font-family=\"Times,serif\" font-size=\"14.00\">Dense</text>\n</g>\n<!-- 136564984010912&#45;&gt;136564984013024 -->\n<g id=\"edge7\" class=\"edge\">\n<title>136564984010912-&gt;136564984013024</title>\n<path fill=\"none\" stroke=\"black\" d=\"M86,-73.31C86,-65.29 86,-55.55 86,-46.57\"/>\n<polygon fill=\"black\" stroke=\"black\" points=\"89.5,-46.53 86,-36.53 82.5,-46.53 89.5,-46.53\"/>\n</g>\n</g>\n</svg>"
          },
          "metadata": {},
          "execution_count": 42
        }
      ]
    },
    {
      "cell_type": "code",
      "source": [],
      "metadata": {
        "id": "e6133IEkUnBp"
      },
      "execution_count": null,
      "outputs": []
    }
  ]
}